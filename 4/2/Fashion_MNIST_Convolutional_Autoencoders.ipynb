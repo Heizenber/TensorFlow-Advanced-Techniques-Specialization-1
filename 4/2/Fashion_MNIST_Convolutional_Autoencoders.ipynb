{
  "nbformat": 4,
  "nbformat_minor": 0,
  "metadata": {
    "colab": {
      "name": "Fashion MNIST Convolutional Autoencoders.ipynb",
      "provenance": [],
      "collapsed_sections": [],
      "include_colab_link": true
    },
    "kernelspec": {
      "name": "python3",
      "display_name": "Python 3"
    },
    "accelerator": "GPU",
    "widgets": {
      "application/vnd.jupyter.widget-state+json": {
        "555ae795d6534d7ca1432372eaf11b6a": {
          "model_module": "@jupyter-widgets/controls",
          "model_name": "HBoxModel",
          "state": {
            "_view_name": "HBoxView",
            "_dom_classes": [],
            "_model_name": "HBoxModel",
            "_view_module": "@jupyter-widgets/controls",
            "_model_module_version": "1.5.0",
            "_view_count": null,
            "_view_module_version": "1.5.0",
            "box_style": "",
            "layout": "IPY_MODEL_46d5a033d1b14a3fb569861822ac3fd0",
            "_model_module": "@jupyter-widgets/controls",
            "children": [
              "IPY_MODEL_33517b7b0bc44412a1b7f904e4ae4c07",
              "IPY_MODEL_7e24bc48ae93454e9adc14f62370ffa9"
            ]
          }
        },
        "46d5a033d1b14a3fb569861822ac3fd0": {
          "model_module": "@jupyter-widgets/base",
          "model_name": "LayoutModel",
          "state": {
            "_view_name": "LayoutView",
            "grid_template_rows": null,
            "right": null,
            "justify_content": null,
            "_view_module": "@jupyter-widgets/base",
            "overflow": null,
            "_model_module_version": "1.2.0",
            "_view_count": null,
            "flex_flow": null,
            "width": null,
            "min_width": null,
            "border": null,
            "align_items": null,
            "bottom": null,
            "_model_module": "@jupyter-widgets/base",
            "top": null,
            "grid_column": null,
            "overflow_y": null,
            "overflow_x": null,
            "grid_auto_flow": null,
            "grid_area": null,
            "grid_template_columns": null,
            "flex": null,
            "_model_name": "LayoutModel",
            "justify_items": null,
            "grid_row": null,
            "max_height": null,
            "align_content": null,
            "visibility": null,
            "align_self": null,
            "height": null,
            "min_height": null,
            "padding": null,
            "grid_auto_rows": null,
            "grid_gap": null,
            "max_width": null,
            "order": null,
            "_view_module_version": "1.2.0",
            "grid_template_areas": null,
            "object_position": null,
            "object_fit": null,
            "grid_auto_columns": null,
            "margin": null,
            "display": null,
            "left": null
          }
        },
        "33517b7b0bc44412a1b7f904e4ae4c07": {
          "model_module": "@jupyter-widgets/controls",
          "model_name": "FloatProgressModel",
          "state": {
            "_view_name": "ProgressView",
            "style": "IPY_MODEL_98c30553ccfe493f91cf0944dab1fc3f",
            "_dom_classes": [],
            "description": "Dl Completed...: 100%",
            "_model_name": "FloatProgressModel",
            "bar_style": "success",
            "max": 1,
            "_view_module": "@jupyter-widgets/controls",
            "_model_module_version": "1.5.0",
            "value": 1,
            "_view_count": null,
            "_view_module_version": "1.5.0",
            "orientation": "horizontal",
            "min": 0,
            "description_tooltip": null,
            "_model_module": "@jupyter-widgets/controls",
            "layout": "IPY_MODEL_7f5b48b832704016be3e9a2ca9ea55c1"
          }
        },
        "7e24bc48ae93454e9adc14f62370ffa9": {
          "model_module": "@jupyter-widgets/controls",
          "model_name": "HTMLModel",
          "state": {
            "_view_name": "HTMLView",
            "style": "IPY_MODEL_6e83aaa9b8ee4d27b4fb45d1fcda8ebd",
            "_dom_classes": [],
            "description": "",
            "_model_name": "HTMLModel",
            "placeholder": "​",
            "_view_module": "@jupyter-widgets/controls",
            "_model_module_version": "1.5.0",
            "value": " 4/4 [00:03&lt;00:00,  1.26 url/s]",
            "_view_count": null,
            "_view_module_version": "1.5.0",
            "description_tooltip": null,
            "_model_module": "@jupyter-widgets/controls",
            "layout": "IPY_MODEL_62ff059a06484aa8b4da72dddf581cb1"
          }
        },
        "98c30553ccfe493f91cf0944dab1fc3f": {
          "model_module": "@jupyter-widgets/controls",
          "model_name": "ProgressStyleModel",
          "state": {
            "_view_name": "StyleView",
            "_model_name": "ProgressStyleModel",
            "description_width": "initial",
            "_view_module": "@jupyter-widgets/base",
            "_model_module_version": "1.5.0",
            "_view_count": null,
            "_view_module_version": "1.2.0",
            "bar_color": null,
            "_model_module": "@jupyter-widgets/controls"
          }
        },
        "7f5b48b832704016be3e9a2ca9ea55c1": {
          "model_module": "@jupyter-widgets/base",
          "model_name": "LayoutModel",
          "state": {
            "_view_name": "LayoutView",
            "grid_template_rows": null,
            "right": null,
            "justify_content": null,
            "_view_module": "@jupyter-widgets/base",
            "overflow": null,
            "_model_module_version": "1.2.0",
            "_view_count": null,
            "flex_flow": null,
            "width": null,
            "min_width": null,
            "border": null,
            "align_items": null,
            "bottom": null,
            "_model_module": "@jupyter-widgets/base",
            "top": null,
            "grid_column": null,
            "overflow_y": null,
            "overflow_x": null,
            "grid_auto_flow": null,
            "grid_area": null,
            "grid_template_columns": null,
            "flex": null,
            "_model_name": "LayoutModel",
            "justify_items": null,
            "grid_row": null,
            "max_height": null,
            "align_content": null,
            "visibility": null,
            "align_self": null,
            "height": null,
            "min_height": null,
            "padding": null,
            "grid_auto_rows": null,
            "grid_gap": null,
            "max_width": null,
            "order": null,
            "_view_module_version": "1.2.0",
            "grid_template_areas": null,
            "object_position": null,
            "object_fit": null,
            "grid_auto_columns": null,
            "margin": null,
            "display": null,
            "left": null
          }
        },
        "6e83aaa9b8ee4d27b4fb45d1fcda8ebd": {
          "model_module": "@jupyter-widgets/controls",
          "model_name": "DescriptionStyleModel",
          "state": {
            "_view_name": "StyleView",
            "_model_name": "DescriptionStyleModel",
            "description_width": "",
            "_view_module": "@jupyter-widgets/base",
            "_model_module_version": "1.5.0",
            "_view_count": null,
            "_view_module_version": "1.2.0",
            "_model_module": "@jupyter-widgets/controls"
          }
        },
        "62ff059a06484aa8b4da72dddf581cb1": {
          "model_module": "@jupyter-widgets/base",
          "model_name": "LayoutModel",
          "state": {
            "_view_name": "LayoutView",
            "grid_template_rows": null,
            "right": null,
            "justify_content": null,
            "_view_module": "@jupyter-widgets/base",
            "overflow": null,
            "_model_module_version": "1.2.0",
            "_view_count": null,
            "flex_flow": null,
            "width": null,
            "min_width": null,
            "border": null,
            "align_items": null,
            "bottom": null,
            "_model_module": "@jupyter-widgets/base",
            "top": null,
            "grid_column": null,
            "overflow_y": null,
            "overflow_x": null,
            "grid_auto_flow": null,
            "grid_area": null,
            "grid_template_columns": null,
            "flex": null,
            "_model_name": "LayoutModel",
            "justify_items": null,
            "grid_row": null,
            "max_height": null,
            "align_content": null,
            "visibility": null,
            "align_self": null,
            "height": null,
            "min_height": null,
            "padding": null,
            "grid_auto_rows": null,
            "grid_gap": null,
            "max_width": null,
            "order": null,
            "_view_module_version": "1.2.0",
            "grid_template_areas": null,
            "object_position": null,
            "object_fit": null,
            "grid_auto_columns": null,
            "margin": null,
            "display": null,
            "left": null
          }
        },
        "2a1d18ee07024a94829a7fc7f249a433": {
          "model_module": "@jupyter-widgets/controls",
          "model_name": "HBoxModel",
          "state": {
            "_view_name": "HBoxView",
            "_dom_classes": [],
            "_model_name": "HBoxModel",
            "_view_module": "@jupyter-widgets/controls",
            "_model_module_version": "1.5.0",
            "_view_count": null,
            "_view_module_version": "1.5.0",
            "box_style": "",
            "layout": "IPY_MODEL_337deaa80c754fed9930d0586ac612b4",
            "_model_module": "@jupyter-widgets/controls",
            "children": [
              "IPY_MODEL_2e535f9fbfd641d5b8ee80e35ae6de95",
              "IPY_MODEL_258e4134ca954cbc8867a558cae7ece6"
            ]
          }
        },
        "337deaa80c754fed9930d0586ac612b4": {
          "model_module": "@jupyter-widgets/base",
          "model_name": "LayoutModel",
          "state": {
            "_view_name": "LayoutView",
            "grid_template_rows": null,
            "right": null,
            "justify_content": null,
            "_view_module": "@jupyter-widgets/base",
            "overflow": null,
            "_model_module_version": "1.2.0",
            "_view_count": null,
            "flex_flow": null,
            "width": null,
            "min_width": null,
            "border": null,
            "align_items": null,
            "bottom": null,
            "_model_module": "@jupyter-widgets/base",
            "top": null,
            "grid_column": null,
            "overflow_y": null,
            "overflow_x": null,
            "grid_auto_flow": null,
            "grid_area": null,
            "grid_template_columns": null,
            "flex": null,
            "_model_name": "LayoutModel",
            "justify_items": null,
            "grid_row": null,
            "max_height": null,
            "align_content": null,
            "visibility": null,
            "align_self": null,
            "height": null,
            "min_height": null,
            "padding": null,
            "grid_auto_rows": null,
            "grid_gap": null,
            "max_width": null,
            "order": null,
            "_view_module_version": "1.2.0",
            "grid_template_areas": null,
            "object_position": null,
            "object_fit": null,
            "grid_auto_columns": null,
            "margin": null,
            "display": null,
            "left": null
          }
        },
        "2e535f9fbfd641d5b8ee80e35ae6de95": {
          "model_module": "@jupyter-widgets/controls",
          "model_name": "FloatProgressModel",
          "state": {
            "_view_name": "ProgressView",
            "style": "IPY_MODEL_e964fa816ab14ce2a48720036cfc4865",
            "_dom_classes": [],
            "description": "Dl Size...: 100%",
            "_model_name": "FloatProgressModel",
            "bar_style": "success",
            "max": 1,
            "_view_module": "@jupyter-widgets/controls",
            "_model_module_version": "1.5.0",
            "value": 1,
            "_view_count": null,
            "_view_module_version": "1.5.0",
            "orientation": "horizontal",
            "min": 0,
            "description_tooltip": null,
            "_model_module": "@jupyter-widgets/controls",
            "layout": "IPY_MODEL_2d28fa0901e44242848f7080521637b0"
          }
        },
        "258e4134ca954cbc8867a558cae7ece6": {
          "model_module": "@jupyter-widgets/controls",
          "model_name": "HTMLModel",
          "state": {
            "_view_name": "HTMLView",
            "style": "IPY_MODEL_f59173ef63e94ae492eb7fa7a708ddd7",
            "_dom_classes": [],
            "description": "",
            "_model_name": "HTMLModel",
            "placeholder": "​",
            "_view_module": "@jupyter-widgets/controls",
            "_model_module_version": "1.5.0",
            "value": " 29/29 [00:03&lt;00:00,  9.23 MiB/s]",
            "_view_count": null,
            "_view_module_version": "1.5.0",
            "description_tooltip": null,
            "_model_module": "@jupyter-widgets/controls",
            "layout": "IPY_MODEL_9b72f5ba03cd4d77a9910ed01c4b540e"
          }
        },
        "e964fa816ab14ce2a48720036cfc4865": {
          "model_module": "@jupyter-widgets/controls",
          "model_name": "ProgressStyleModel",
          "state": {
            "_view_name": "StyleView",
            "_model_name": "ProgressStyleModel",
            "description_width": "initial",
            "_view_module": "@jupyter-widgets/base",
            "_model_module_version": "1.5.0",
            "_view_count": null,
            "_view_module_version": "1.2.0",
            "bar_color": null,
            "_model_module": "@jupyter-widgets/controls"
          }
        },
        "2d28fa0901e44242848f7080521637b0": {
          "model_module": "@jupyter-widgets/base",
          "model_name": "LayoutModel",
          "state": {
            "_view_name": "LayoutView",
            "grid_template_rows": null,
            "right": null,
            "justify_content": null,
            "_view_module": "@jupyter-widgets/base",
            "overflow": null,
            "_model_module_version": "1.2.0",
            "_view_count": null,
            "flex_flow": null,
            "width": null,
            "min_width": null,
            "border": null,
            "align_items": null,
            "bottom": null,
            "_model_module": "@jupyter-widgets/base",
            "top": null,
            "grid_column": null,
            "overflow_y": null,
            "overflow_x": null,
            "grid_auto_flow": null,
            "grid_area": null,
            "grid_template_columns": null,
            "flex": null,
            "_model_name": "LayoutModel",
            "justify_items": null,
            "grid_row": null,
            "max_height": null,
            "align_content": null,
            "visibility": null,
            "align_self": null,
            "height": null,
            "min_height": null,
            "padding": null,
            "grid_auto_rows": null,
            "grid_gap": null,
            "max_width": null,
            "order": null,
            "_view_module_version": "1.2.0",
            "grid_template_areas": null,
            "object_position": null,
            "object_fit": null,
            "grid_auto_columns": null,
            "margin": null,
            "display": null,
            "left": null
          }
        },
        "f59173ef63e94ae492eb7fa7a708ddd7": {
          "model_module": "@jupyter-widgets/controls",
          "model_name": "DescriptionStyleModel",
          "state": {
            "_view_name": "StyleView",
            "_model_name": "DescriptionStyleModel",
            "description_width": "",
            "_view_module": "@jupyter-widgets/base",
            "_model_module_version": "1.5.0",
            "_view_count": null,
            "_view_module_version": "1.2.0",
            "_model_module": "@jupyter-widgets/controls"
          }
        },
        "9b72f5ba03cd4d77a9910ed01c4b540e": {
          "model_module": "@jupyter-widgets/base",
          "model_name": "LayoutModel",
          "state": {
            "_view_name": "LayoutView",
            "grid_template_rows": null,
            "right": null,
            "justify_content": null,
            "_view_module": "@jupyter-widgets/base",
            "overflow": null,
            "_model_module_version": "1.2.0",
            "_view_count": null,
            "flex_flow": null,
            "width": null,
            "min_width": null,
            "border": null,
            "align_items": null,
            "bottom": null,
            "_model_module": "@jupyter-widgets/base",
            "top": null,
            "grid_column": null,
            "overflow_y": null,
            "overflow_x": null,
            "grid_auto_flow": null,
            "grid_area": null,
            "grid_template_columns": null,
            "flex": null,
            "_model_name": "LayoutModel",
            "justify_items": null,
            "grid_row": null,
            "max_height": null,
            "align_content": null,
            "visibility": null,
            "align_self": null,
            "height": null,
            "min_height": null,
            "padding": null,
            "grid_auto_rows": null,
            "grid_gap": null,
            "max_width": null,
            "order": null,
            "_view_module_version": "1.2.0",
            "grid_template_areas": null,
            "object_position": null,
            "object_fit": null,
            "grid_auto_columns": null,
            "margin": null,
            "display": null,
            "left": null
          }
        },
        "d457ce1ccedc403c8ab48c5e6a2d8d9d": {
          "model_module": "@jupyter-widgets/controls",
          "model_name": "HBoxModel",
          "state": {
            "_view_name": "HBoxView",
            "_dom_classes": [],
            "_model_name": "HBoxModel",
            "_view_module": "@jupyter-widgets/controls",
            "_model_module_version": "1.5.0",
            "_view_count": null,
            "_view_module_version": "1.5.0",
            "box_style": "",
            "layout": "IPY_MODEL_8943263220bc4804a269b7408e61c550",
            "_model_module": "@jupyter-widgets/controls",
            "children": [
              "IPY_MODEL_61da42fcd95c42828f8136bfa1e640f4",
              "IPY_MODEL_4224549a9cf84b2ba7adf5606d8ab21a"
            ]
          }
        },
        "8943263220bc4804a269b7408e61c550": {
          "model_module": "@jupyter-widgets/base",
          "model_name": "LayoutModel",
          "state": {
            "_view_name": "LayoutView",
            "grid_template_rows": null,
            "right": null,
            "justify_content": null,
            "_view_module": "@jupyter-widgets/base",
            "overflow": null,
            "_model_module_version": "1.2.0",
            "_view_count": null,
            "flex_flow": null,
            "width": null,
            "min_width": null,
            "border": null,
            "align_items": null,
            "bottom": null,
            "_model_module": "@jupyter-widgets/base",
            "top": null,
            "grid_column": null,
            "overflow_y": null,
            "overflow_x": null,
            "grid_auto_flow": null,
            "grid_area": null,
            "grid_template_columns": null,
            "flex": null,
            "_model_name": "LayoutModel",
            "justify_items": null,
            "grid_row": null,
            "max_height": null,
            "align_content": null,
            "visibility": null,
            "align_self": null,
            "height": null,
            "min_height": null,
            "padding": null,
            "grid_auto_rows": null,
            "grid_gap": null,
            "max_width": null,
            "order": null,
            "_view_module_version": "1.2.0",
            "grid_template_areas": null,
            "object_position": null,
            "object_fit": null,
            "grid_auto_columns": null,
            "margin": null,
            "display": null,
            "left": null
          }
        },
        "61da42fcd95c42828f8136bfa1e640f4": {
          "model_module": "@jupyter-widgets/controls",
          "model_name": "FloatProgressModel",
          "state": {
            "_view_name": "ProgressView",
            "style": "IPY_MODEL_4487e685440e44f2a56701594ef09823",
            "_dom_classes": [],
            "description": "Extraction completed...: 100%",
            "_model_name": "FloatProgressModel",
            "bar_style": "success",
            "max": 1,
            "_view_module": "@jupyter-widgets/controls",
            "_model_module_version": "1.5.0",
            "value": 1,
            "_view_count": null,
            "_view_module_version": "1.5.0",
            "orientation": "horizontal",
            "min": 0,
            "description_tooltip": null,
            "_model_module": "@jupyter-widgets/controls",
            "layout": "IPY_MODEL_9cdbeacb8bed420ab2edff35be77443c"
          }
        },
        "4224549a9cf84b2ba7adf5606d8ab21a": {
          "model_module": "@jupyter-widgets/controls",
          "model_name": "HTMLModel",
          "state": {
            "_view_name": "HTMLView",
            "style": "IPY_MODEL_84ea175a990a43c8a948c4620a185146",
            "_dom_classes": [],
            "description": "",
            "_model_name": "HTMLModel",
            "placeholder": "​",
            "_view_module": "@jupyter-widgets/controls",
            "_model_module_version": "1.5.0",
            "value": " 4/4 [00:03&lt;00:00,  1.29 file/s]",
            "_view_count": null,
            "_view_module_version": "1.5.0",
            "description_tooltip": null,
            "_model_module": "@jupyter-widgets/controls",
            "layout": "IPY_MODEL_8bd1e2f4d91148faba3435de97983680"
          }
        },
        "4487e685440e44f2a56701594ef09823": {
          "model_module": "@jupyter-widgets/controls",
          "model_name": "ProgressStyleModel",
          "state": {
            "_view_name": "StyleView",
            "_model_name": "ProgressStyleModel",
            "description_width": "initial",
            "_view_module": "@jupyter-widgets/base",
            "_model_module_version": "1.5.0",
            "_view_count": null,
            "_view_module_version": "1.2.0",
            "bar_color": null,
            "_model_module": "@jupyter-widgets/controls"
          }
        },
        "9cdbeacb8bed420ab2edff35be77443c": {
          "model_module": "@jupyter-widgets/base",
          "model_name": "LayoutModel",
          "state": {
            "_view_name": "LayoutView",
            "grid_template_rows": null,
            "right": null,
            "justify_content": null,
            "_view_module": "@jupyter-widgets/base",
            "overflow": null,
            "_model_module_version": "1.2.0",
            "_view_count": null,
            "flex_flow": null,
            "width": null,
            "min_width": null,
            "border": null,
            "align_items": null,
            "bottom": null,
            "_model_module": "@jupyter-widgets/base",
            "top": null,
            "grid_column": null,
            "overflow_y": null,
            "overflow_x": null,
            "grid_auto_flow": null,
            "grid_area": null,
            "grid_template_columns": null,
            "flex": null,
            "_model_name": "LayoutModel",
            "justify_items": null,
            "grid_row": null,
            "max_height": null,
            "align_content": null,
            "visibility": null,
            "align_self": null,
            "height": null,
            "min_height": null,
            "padding": null,
            "grid_auto_rows": null,
            "grid_gap": null,
            "max_width": null,
            "order": null,
            "_view_module_version": "1.2.0",
            "grid_template_areas": null,
            "object_position": null,
            "object_fit": null,
            "grid_auto_columns": null,
            "margin": null,
            "display": null,
            "left": null
          }
        },
        "84ea175a990a43c8a948c4620a185146": {
          "model_module": "@jupyter-widgets/controls",
          "model_name": "DescriptionStyleModel",
          "state": {
            "_view_name": "StyleView",
            "_model_name": "DescriptionStyleModel",
            "description_width": "",
            "_view_module": "@jupyter-widgets/base",
            "_model_module_version": "1.5.0",
            "_view_count": null,
            "_view_module_version": "1.2.0",
            "_model_module": "@jupyter-widgets/controls"
          }
        },
        "8bd1e2f4d91148faba3435de97983680": {
          "model_module": "@jupyter-widgets/base",
          "model_name": "LayoutModel",
          "state": {
            "_view_name": "LayoutView",
            "grid_template_rows": null,
            "right": null,
            "justify_content": null,
            "_view_module": "@jupyter-widgets/base",
            "overflow": null,
            "_model_module_version": "1.2.0",
            "_view_count": null,
            "flex_flow": null,
            "width": null,
            "min_width": null,
            "border": null,
            "align_items": null,
            "bottom": null,
            "_model_module": "@jupyter-widgets/base",
            "top": null,
            "grid_column": null,
            "overflow_y": null,
            "overflow_x": null,
            "grid_auto_flow": null,
            "grid_area": null,
            "grid_template_columns": null,
            "flex": null,
            "_model_name": "LayoutModel",
            "justify_items": null,
            "grid_row": null,
            "max_height": null,
            "align_content": null,
            "visibility": null,
            "align_self": null,
            "height": null,
            "min_height": null,
            "padding": null,
            "grid_auto_rows": null,
            "grid_gap": null,
            "max_width": null,
            "order": null,
            "_view_module_version": "1.2.0",
            "grid_template_areas": null,
            "object_position": null,
            "object_fit": null,
            "grid_auto_columns": null,
            "margin": null,
            "display": null,
            "left": null
          }
        },
        "5bca2212d63d4f748a8c3389f56a0237": {
          "model_module": "@jupyter-widgets/controls",
          "model_name": "HBoxModel",
          "state": {
            "_view_name": "HBoxView",
            "_dom_classes": [],
            "_model_name": "HBoxModel",
            "_view_module": "@jupyter-widgets/controls",
            "_model_module_version": "1.5.0",
            "_view_count": null,
            "_view_module_version": "1.5.0",
            "box_style": "",
            "layout": "IPY_MODEL_00fb3616661d4dc2a20113fbda150944",
            "_model_module": "@jupyter-widgets/controls",
            "children": [
              "IPY_MODEL_76cc7c8058b3475fbcb80c9dc5e2bbd4",
              "IPY_MODEL_9561aaa5339249afa594db3d344e2df9"
            ]
          }
        },
        "00fb3616661d4dc2a20113fbda150944": {
          "model_module": "@jupyter-widgets/base",
          "model_name": "LayoutModel",
          "state": {
            "_view_name": "LayoutView",
            "grid_template_rows": null,
            "right": null,
            "justify_content": null,
            "_view_module": "@jupyter-widgets/base",
            "overflow": null,
            "_model_module_version": "1.2.0",
            "_view_count": null,
            "flex_flow": null,
            "width": null,
            "min_width": null,
            "border": null,
            "align_items": null,
            "bottom": null,
            "_model_module": "@jupyter-widgets/base",
            "top": null,
            "grid_column": null,
            "overflow_y": null,
            "overflow_x": null,
            "grid_auto_flow": null,
            "grid_area": null,
            "grid_template_columns": null,
            "flex": null,
            "_model_name": "LayoutModel",
            "justify_items": null,
            "grid_row": null,
            "max_height": null,
            "align_content": null,
            "visibility": null,
            "align_self": null,
            "height": null,
            "min_height": null,
            "padding": null,
            "grid_auto_rows": null,
            "grid_gap": null,
            "max_width": null,
            "order": null,
            "_view_module_version": "1.2.0",
            "grid_template_areas": null,
            "object_position": null,
            "object_fit": null,
            "grid_auto_columns": null,
            "margin": null,
            "display": null,
            "left": null
          }
        },
        "76cc7c8058b3475fbcb80c9dc5e2bbd4": {
          "model_module": "@jupyter-widgets/controls",
          "model_name": "FloatProgressModel",
          "state": {
            "_view_name": "ProgressView",
            "style": "IPY_MODEL_ffa7c9d9e9a547a7a8adca3ea98c1cf7",
            "_dom_classes": [],
            "description": "",
            "_model_name": "FloatProgressModel",
            "bar_style": "info",
            "max": 1,
            "_view_module": "@jupyter-widgets/controls",
            "_model_module_version": "1.5.0",
            "value": 1,
            "_view_count": null,
            "_view_module_version": "1.5.0",
            "orientation": "horizontal",
            "min": 0,
            "description_tooltip": null,
            "_model_module": "@jupyter-widgets/controls",
            "layout": "IPY_MODEL_46ced55ca0d44b0799f7aaa4eea37b8f"
          }
        },
        "9561aaa5339249afa594db3d344e2df9": {
          "model_module": "@jupyter-widgets/controls",
          "model_name": "HTMLModel",
          "state": {
            "_view_name": "HTMLView",
            "style": "IPY_MODEL_64e824cf81164da9876e2dcea175c303",
            "_dom_classes": [],
            "description": "",
            "_model_name": "HTMLModel",
            "placeholder": "​",
            "_view_module": "@jupyter-widgets/controls",
            "_model_module_version": "1.5.0",
            "value": " 60000/0 [00:24&lt;00:00, 3351.37 examples/s]",
            "_view_count": null,
            "_view_module_version": "1.5.0",
            "description_tooltip": null,
            "_model_module": "@jupyter-widgets/controls",
            "layout": "IPY_MODEL_ddea2b17b1c348b68474c0cc960dd1ac"
          }
        },
        "ffa7c9d9e9a547a7a8adca3ea98c1cf7": {
          "model_module": "@jupyter-widgets/controls",
          "model_name": "ProgressStyleModel",
          "state": {
            "_view_name": "StyleView",
            "_model_name": "ProgressStyleModel",
            "description_width": "initial",
            "_view_module": "@jupyter-widgets/base",
            "_model_module_version": "1.5.0",
            "_view_count": null,
            "_view_module_version": "1.2.0",
            "bar_color": null,
            "_model_module": "@jupyter-widgets/controls"
          }
        },
        "46ced55ca0d44b0799f7aaa4eea37b8f": {
          "model_module": "@jupyter-widgets/base",
          "model_name": "LayoutModel",
          "state": {
            "_view_name": "LayoutView",
            "grid_template_rows": null,
            "right": null,
            "justify_content": null,
            "_view_module": "@jupyter-widgets/base",
            "overflow": null,
            "_model_module_version": "1.2.0",
            "_view_count": null,
            "flex_flow": null,
            "width": null,
            "min_width": null,
            "border": null,
            "align_items": null,
            "bottom": null,
            "_model_module": "@jupyter-widgets/base",
            "top": null,
            "grid_column": null,
            "overflow_y": null,
            "overflow_x": null,
            "grid_auto_flow": null,
            "grid_area": null,
            "grid_template_columns": null,
            "flex": null,
            "_model_name": "LayoutModel",
            "justify_items": null,
            "grid_row": null,
            "max_height": null,
            "align_content": null,
            "visibility": null,
            "align_self": null,
            "height": null,
            "min_height": null,
            "padding": null,
            "grid_auto_rows": null,
            "grid_gap": null,
            "max_width": null,
            "order": null,
            "_view_module_version": "1.2.0",
            "grid_template_areas": null,
            "object_position": null,
            "object_fit": null,
            "grid_auto_columns": null,
            "margin": null,
            "display": null,
            "left": null
          }
        },
        "64e824cf81164da9876e2dcea175c303": {
          "model_module": "@jupyter-widgets/controls",
          "model_name": "DescriptionStyleModel",
          "state": {
            "_view_name": "StyleView",
            "_model_name": "DescriptionStyleModel",
            "description_width": "",
            "_view_module": "@jupyter-widgets/base",
            "_model_module_version": "1.5.0",
            "_view_count": null,
            "_view_module_version": "1.2.0",
            "_model_module": "@jupyter-widgets/controls"
          }
        },
        "ddea2b17b1c348b68474c0cc960dd1ac": {
          "model_module": "@jupyter-widgets/base",
          "model_name": "LayoutModel",
          "state": {
            "_view_name": "LayoutView",
            "grid_template_rows": null,
            "right": null,
            "justify_content": null,
            "_view_module": "@jupyter-widgets/base",
            "overflow": null,
            "_model_module_version": "1.2.0",
            "_view_count": null,
            "flex_flow": null,
            "width": null,
            "min_width": null,
            "border": null,
            "align_items": null,
            "bottom": null,
            "_model_module": "@jupyter-widgets/base",
            "top": null,
            "grid_column": null,
            "overflow_y": null,
            "overflow_x": null,
            "grid_auto_flow": null,
            "grid_area": null,
            "grid_template_columns": null,
            "flex": null,
            "_model_name": "LayoutModel",
            "justify_items": null,
            "grid_row": null,
            "max_height": null,
            "align_content": null,
            "visibility": null,
            "align_self": null,
            "height": null,
            "min_height": null,
            "padding": null,
            "grid_auto_rows": null,
            "grid_gap": null,
            "max_width": null,
            "order": null,
            "_view_module_version": "1.2.0",
            "grid_template_areas": null,
            "object_position": null,
            "object_fit": null,
            "grid_auto_columns": null,
            "margin": null,
            "display": null,
            "left": null
          }
        },
        "a774840873364b0590d1c2c181ed0ab8": {
          "model_module": "@jupyter-widgets/controls",
          "model_name": "HBoxModel",
          "state": {
            "_view_name": "HBoxView",
            "_dom_classes": [],
            "_model_name": "HBoxModel",
            "_view_module": "@jupyter-widgets/controls",
            "_model_module_version": "1.5.0",
            "_view_count": null,
            "_view_module_version": "1.5.0",
            "box_style": "",
            "layout": "IPY_MODEL_4ca5b78982bc4c1c9ab2fb000c770a4b",
            "_model_module": "@jupyter-widgets/controls",
            "children": [
              "IPY_MODEL_25d51b50584a4a87a46136b3a7aa4008",
              "IPY_MODEL_61df3fcb2e0c432ea812e47c537845e7"
            ]
          }
        },
        "4ca5b78982bc4c1c9ab2fb000c770a4b": {
          "model_module": "@jupyter-widgets/base",
          "model_name": "LayoutModel",
          "state": {
            "_view_name": "LayoutView",
            "grid_template_rows": null,
            "right": null,
            "justify_content": null,
            "_view_module": "@jupyter-widgets/base",
            "overflow": null,
            "_model_module_version": "1.2.0",
            "_view_count": null,
            "flex_flow": null,
            "width": null,
            "min_width": null,
            "border": null,
            "align_items": null,
            "bottom": null,
            "_model_module": "@jupyter-widgets/base",
            "top": null,
            "grid_column": null,
            "overflow_y": null,
            "overflow_x": null,
            "grid_auto_flow": null,
            "grid_area": null,
            "grid_template_columns": null,
            "flex": null,
            "_model_name": "LayoutModel",
            "justify_items": null,
            "grid_row": null,
            "max_height": null,
            "align_content": null,
            "visibility": null,
            "align_self": null,
            "height": null,
            "min_height": null,
            "padding": null,
            "grid_auto_rows": null,
            "grid_gap": null,
            "max_width": null,
            "order": null,
            "_view_module_version": "1.2.0",
            "grid_template_areas": null,
            "object_position": null,
            "object_fit": null,
            "grid_auto_columns": null,
            "margin": null,
            "display": null,
            "left": null
          }
        },
        "25d51b50584a4a87a46136b3a7aa4008": {
          "model_module": "@jupyter-widgets/controls",
          "model_name": "FloatProgressModel",
          "state": {
            "_view_name": "ProgressView",
            "style": "IPY_MODEL_7efdb04d3aa74c858bf5df7d7e2ed2bc",
            "_dom_classes": [],
            "description": " 82%",
            "_model_name": "FloatProgressModel",
            "bar_style": "danger",
            "max": 60000,
            "_view_module": "@jupyter-widgets/controls",
            "_model_module_version": "1.5.0",
            "value": 49337,
            "_view_count": null,
            "_view_module_version": "1.5.0",
            "orientation": "horizontal",
            "min": 0,
            "description_tooltip": null,
            "_model_module": "@jupyter-widgets/controls",
            "layout": "IPY_MODEL_3f715d23c84142309ac5b9fd3e305733"
          }
        },
        "61df3fcb2e0c432ea812e47c537845e7": {
          "model_module": "@jupyter-widgets/controls",
          "model_name": "HTMLModel",
          "state": {
            "_view_name": "HTMLView",
            "style": "IPY_MODEL_34e559c080e34fca95e0345b6486d4f1",
            "_dom_classes": [],
            "description": "",
            "_model_name": "HTMLModel",
            "placeholder": "​",
            "_view_module": "@jupyter-widgets/controls",
            "_model_module_version": "1.5.0",
            "value": " 49337/60000 [00:00&lt;00:00, 109990.89 examples/s]",
            "_view_count": null,
            "_view_module_version": "1.5.0",
            "description_tooltip": null,
            "_model_module": "@jupyter-widgets/controls",
            "layout": "IPY_MODEL_2b551e1c2fc84313814f93968c85994b"
          }
        },
        "7efdb04d3aa74c858bf5df7d7e2ed2bc": {
          "model_module": "@jupyter-widgets/controls",
          "model_name": "ProgressStyleModel",
          "state": {
            "_view_name": "StyleView",
            "_model_name": "ProgressStyleModel",
            "description_width": "initial",
            "_view_module": "@jupyter-widgets/base",
            "_model_module_version": "1.5.0",
            "_view_count": null,
            "_view_module_version": "1.2.0",
            "bar_color": null,
            "_model_module": "@jupyter-widgets/controls"
          }
        },
        "3f715d23c84142309ac5b9fd3e305733": {
          "model_module": "@jupyter-widgets/base",
          "model_name": "LayoutModel",
          "state": {
            "_view_name": "LayoutView",
            "grid_template_rows": null,
            "right": null,
            "justify_content": null,
            "_view_module": "@jupyter-widgets/base",
            "overflow": null,
            "_model_module_version": "1.2.0",
            "_view_count": null,
            "flex_flow": null,
            "width": null,
            "min_width": null,
            "border": null,
            "align_items": null,
            "bottom": null,
            "_model_module": "@jupyter-widgets/base",
            "top": null,
            "grid_column": null,
            "overflow_y": null,
            "overflow_x": null,
            "grid_auto_flow": null,
            "grid_area": null,
            "grid_template_columns": null,
            "flex": null,
            "_model_name": "LayoutModel",
            "justify_items": null,
            "grid_row": null,
            "max_height": null,
            "align_content": null,
            "visibility": null,
            "align_self": null,
            "height": null,
            "min_height": null,
            "padding": null,
            "grid_auto_rows": null,
            "grid_gap": null,
            "max_width": null,
            "order": null,
            "_view_module_version": "1.2.0",
            "grid_template_areas": null,
            "object_position": null,
            "object_fit": null,
            "grid_auto_columns": null,
            "margin": null,
            "display": null,
            "left": null
          }
        },
        "34e559c080e34fca95e0345b6486d4f1": {
          "model_module": "@jupyter-widgets/controls",
          "model_name": "DescriptionStyleModel",
          "state": {
            "_view_name": "StyleView",
            "_model_name": "DescriptionStyleModel",
            "description_width": "",
            "_view_module": "@jupyter-widgets/base",
            "_model_module_version": "1.5.0",
            "_view_count": null,
            "_view_module_version": "1.2.0",
            "_model_module": "@jupyter-widgets/controls"
          }
        },
        "2b551e1c2fc84313814f93968c85994b": {
          "model_module": "@jupyter-widgets/base",
          "model_name": "LayoutModel",
          "state": {
            "_view_name": "LayoutView",
            "grid_template_rows": null,
            "right": null,
            "justify_content": null,
            "_view_module": "@jupyter-widgets/base",
            "overflow": null,
            "_model_module_version": "1.2.0",
            "_view_count": null,
            "flex_flow": null,
            "width": null,
            "min_width": null,
            "border": null,
            "align_items": null,
            "bottom": null,
            "_model_module": "@jupyter-widgets/base",
            "top": null,
            "grid_column": null,
            "overflow_y": null,
            "overflow_x": null,
            "grid_auto_flow": null,
            "grid_area": null,
            "grid_template_columns": null,
            "flex": null,
            "_model_name": "LayoutModel",
            "justify_items": null,
            "grid_row": null,
            "max_height": null,
            "align_content": null,
            "visibility": null,
            "align_self": null,
            "height": null,
            "min_height": null,
            "padding": null,
            "grid_auto_rows": null,
            "grid_gap": null,
            "max_width": null,
            "order": null,
            "_view_module_version": "1.2.0",
            "grid_template_areas": null,
            "object_position": null,
            "object_fit": null,
            "grid_auto_columns": null,
            "margin": null,
            "display": null,
            "left": null
          }
        },
        "7648ab1ba3a841bca182602ce6a85337": {
          "model_module": "@jupyter-widgets/controls",
          "model_name": "HBoxModel",
          "state": {
            "_view_name": "HBoxView",
            "_dom_classes": [],
            "_model_name": "HBoxModel",
            "_view_module": "@jupyter-widgets/controls",
            "_model_module_version": "1.5.0",
            "_view_count": null,
            "_view_module_version": "1.5.0",
            "box_style": "",
            "layout": "IPY_MODEL_80c71bfc9e764ec3aa07c7d44910ab76",
            "_model_module": "@jupyter-widgets/controls",
            "children": [
              "IPY_MODEL_7a4e3a09ebae4d67838e16d1ae3ad6eb",
              "IPY_MODEL_be1d645a543246fbbb4b6f8ebc579362"
            ]
          }
        },
        "80c71bfc9e764ec3aa07c7d44910ab76": {
          "model_module": "@jupyter-widgets/base",
          "model_name": "LayoutModel",
          "state": {
            "_view_name": "LayoutView",
            "grid_template_rows": null,
            "right": null,
            "justify_content": null,
            "_view_module": "@jupyter-widgets/base",
            "overflow": null,
            "_model_module_version": "1.2.0",
            "_view_count": null,
            "flex_flow": null,
            "width": null,
            "min_width": null,
            "border": null,
            "align_items": null,
            "bottom": null,
            "_model_module": "@jupyter-widgets/base",
            "top": null,
            "grid_column": null,
            "overflow_y": null,
            "overflow_x": null,
            "grid_auto_flow": null,
            "grid_area": null,
            "grid_template_columns": null,
            "flex": null,
            "_model_name": "LayoutModel",
            "justify_items": null,
            "grid_row": null,
            "max_height": null,
            "align_content": null,
            "visibility": null,
            "align_self": null,
            "height": null,
            "min_height": null,
            "padding": null,
            "grid_auto_rows": null,
            "grid_gap": null,
            "max_width": null,
            "order": null,
            "_view_module_version": "1.2.0",
            "grid_template_areas": null,
            "object_position": null,
            "object_fit": null,
            "grid_auto_columns": null,
            "margin": null,
            "display": null,
            "left": null
          }
        },
        "7a4e3a09ebae4d67838e16d1ae3ad6eb": {
          "model_module": "@jupyter-widgets/controls",
          "model_name": "FloatProgressModel",
          "state": {
            "_view_name": "ProgressView",
            "style": "IPY_MODEL_63031f5a694245159171f126db1cd4c4",
            "_dom_classes": [],
            "description": "",
            "_model_name": "FloatProgressModel",
            "bar_style": "info",
            "max": 1,
            "_view_module": "@jupyter-widgets/controls",
            "_model_module_version": "1.5.0",
            "value": 1,
            "_view_count": null,
            "_view_module_version": "1.5.0",
            "orientation": "horizontal",
            "min": 0,
            "description_tooltip": null,
            "_model_module": "@jupyter-widgets/controls",
            "layout": "IPY_MODEL_15fcd991c7f94e44ab77e6b93aa2efb1"
          }
        },
        "be1d645a543246fbbb4b6f8ebc579362": {
          "model_module": "@jupyter-widgets/controls",
          "model_name": "HTMLModel",
          "state": {
            "_view_name": "HTMLView",
            "style": "IPY_MODEL_781a96202da441b5b39124dae27932bf",
            "_dom_classes": [],
            "description": "",
            "_model_name": "HTMLModel",
            "placeholder": "​",
            "_view_module": "@jupyter-widgets/controls",
            "_model_module_version": "1.5.0",
            "value": " 10000/0 [00:03&lt;00:00, 3204.77 examples/s]",
            "_view_count": null,
            "_view_module_version": "1.5.0",
            "description_tooltip": null,
            "_model_module": "@jupyter-widgets/controls",
            "layout": "IPY_MODEL_ec7599bd61cc41a3aee79de1614f4967"
          }
        },
        "63031f5a694245159171f126db1cd4c4": {
          "model_module": "@jupyter-widgets/controls",
          "model_name": "ProgressStyleModel",
          "state": {
            "_view_name": "StyleView",
            "_model_name": "ProgressStyleModel",
            "description_width": "initial",
            "_view_module": "@jupyter-widgets/base",
            "_model_module_version": "1.5.0",
            "_view_count": null,
            "_view_module_version": "1.2.0",
            "bar_color": null,
            "_model_module": "@jupyter-widgets/controls"
          }
        },
        "15fcd991c7f94e44ab77e6b93aa2efb1": {
          "model_module": "@jupyter-widgets/base",
          "model_name": "LayoutModel",
          "state": {
            "_view_name": "LayoutView",
            "grid_template_rows": null,
            "right": null,
            "justify_content": null,
            "_view_module": "@jupyter-widgets/base",
            "overflow": null,
            "_model_module_version": "1.2.0",
            "_view_count": null,
            "flex_flow": null,
            "width": null,
            "min_width": null,
            "border": null,
            "align_items": null,
            "bottom": null,
            "_model_module": "@jupyter-widgets/base",
            "top": null,
            "grid_column": null,
            "overflow_y": null,
            "overflow_x": null,
            "grid_auto_flow": null,
            "grid_area": null,
            "grid_template_columns": null,
            "flex": null,
            "_model_name": "LayoutModel",
            "justify_items": null,
            "grid_row": null,
            "max_height": null,
            "align_content": null,
            "visibility": null,
            "align_self": null,
            "height": null,
            "min_height": null,
            "padding": null,
            "grid_auto_rows": null,
            "grid_gap": null,
            "max_width": null,
            "order": null,
            "_view_module_version": "1.2.0",
            "grid_template_areas": null,
            "object_position": null,
            "object_fit": null,
            "grid_auto_columns": null,
            "margin": null,
            "display": null,
            "left": null
          }
        },
        "781a96202da441b5b39124dae27932bf": {
          "model_module": "@jupyter-widgets/controls",
          "model_name": "DescriptionStyleModel",
          "state": {
            "_view_name": "StyleView",
            "_model_name": "DescriptionStyleModel",
            "description_width": "",
            "_view_module": "@jupyter-widgets/base",
            "_model_module_version": "1.5.0",
            "_view_count": null,
            "_view_module_version": "1.2.0",
            "_model_module": "@jupyter-widgets/controls"
          }
        },
        "ec7599bd61cc41a3aee79de1614f4967": {
          "model_module": "@jupyter-widgets/base",
          "model_name": "LayoutModel",
          "state": {
            "_view_name": "LayoutView",
            "grid_template_rows": null,
            "right": null,
            "justify_content": null,
            "_view_module": "@jupyter-widgets/base",
            "overflow": null,
            "_model_module_version": "1.2.0",
            "_view_count": null,
            "flex_flow": null,
            "width": null,
            "min_width": null,
            "border": null,
            "align_items": null,
            "bottom": null,
            "_model_module": "@jupyter-widgets/base",
            "top": null,
            "grid_column": null,
            "overflow_y": null,
            "overflow_x": null,
            "grid_auto_flow": null,
            "grid_area": null,
            "grid_template_columns": null,
            "flex": null,
            "_model_name": "LayoutModel",
            "justify_items": null,
            "grid_row": null,
            "max_height": null,
            "align_content": null,
            "visibility": null,
            "align_self": null,
            "height": null,
            "min_height": null,
            "padding": null,
            "grid_auto_rows": null,
            "grid_gap": null,
            "max_width": null,
            "order": null,
            "_view_module_version": "1.2.0",
            "grid_template_areas": null,
            "object_position": null,
            "object_fit": null,
            "grid_auto_columns": null,
            "margin": null,
            "display": null,
            "left": null
          }
        },
        "a1a2d37857054727ac6cd8be73a08cbf": {
          "model_module": "@jupyter-widgets/controls",
          "model_name": "HBoxModel",
          "state": {
            "_view_name": "HBoxView",
            "_dom_classes": [],
            "_model_name": "HBoxModel",
            "_view_module": "@jupyter-widgets/controls",
            "_model_module_version": "1.5.0",
            "_view_count": null,
            "_view_module_version": "1.5.0",
            "box_style": "",
            "layout": "IPY_MODEL_b4e949ca567a4878b1ae98b3868da809",
            "_model_module": "@jupyter-widgets/controls",
            "children": [
              "IPY_MODEL_19f6da52b95449fe9f4a11027a760a24",
              "IPY_MODEL_5403235ef80a4a7681200a9b3d8df048"
            ]
          }
        },
        "b4e949ca567a4878b1ae98b3868da809": {
          "model_module": "@jupyter-widgets/base",
          "model_name": "LayoutModel",
          "state": {
            "_view_name": "LayoutView",
            "grid_template_rows": null,
            "right": null,
            "justify_content": null,
            "_view_module": "@jupyter-widgets/base",
            "overflow": null,
            "_model_module_version": "1.2.0",
            "_view_count": null,
            "flex_flow": null,
            "width": null,
            "min_width": null,
            "border": null,
            "align_items": null,
            "bottom": null,
            "_model_module": "@jupyter-widgets/base",
            "top": null,
            "grid_column": null,
            "overflow_y": null,
            "overflow_x": null,
            "grid_auto_flow": null,
            "grid_area": null,
            "grid_template_columns": null,
            "flex": null,
            "_model_name": "LayoutModel",
            "justify_items": null,
            "grid_row": null,
            "max_height": null,
            "align_content": null,
            "visibility": null,
            "align_self": null,
            "height": null,
            "min_height": null,
            "padding": null,
            "grid_auto_rows": null,
            "grid_gap": null,
            "max_width": null,
            "order": null,
            "_view_module_version": "1.2.0",
            "grid_template_areas": null,
            "object_position": null,
            "object_fit": null,
            "grid_auto_columns": null,
            "margin": null,
            "display": null,
            "left": null
          }
        },
        "19f6da52b95449fe9f4a11027a760a24": {
          "model_module": "@jupyter-widgets/controls",
          "model_name": "FloatProgressModel",
          "state": {
            "_view_name": "ProgressView",
            "style": "IPY_MODEL_a80db69d67e04a4b9f48d9a167d485c3",
            "_dom_classes": [],
            "description": "  0%",
            "_model_name": "FloatProgressModel",
            "bar_style": "danger",
            "max": 10000,
            "_view_module": "@jupyter-widgets/controls",
            "_model_module_version": "1.5.0",
            "value": 0,
            "_view_count": null,
            "_view_module_version": "1.5.0",
            "orientation": "horizontal",
            "min": 0,
            "description_tooltip": null,
            "_model_module": "@jupyter-widgets/controls",
            "layout": "IPY_MODEL_3b1a7507e1384570aa34d542cded08ae"
          }
        },
        "5403235ef80a4a7681200a9b3d8df048": {
          "model_module": "@jupyter-widgets/controls",
          "model_name": "HTMLModel",
          "state": {
            "_view_name": "HTMLView",
            "style": "IPY_MODEL_e2f96e7bbbed42eabdfbe09e62479163",
            "_dom_classes": [],
            "description": "",
            "_model_name": "HTMLModel",
            "placeholder": "​",
            "_view_module": "@jupyter-widgets/controls",
            "_model_module_version": "1.5.0",
            "value": " 0/10000 [00:00&lt;?, ? examples/s]",
            "_view_count": null,
            "_view_module_version": "1.5.0",
            "description_tooltip": null,
            "_model_module": "@jupyter-widgets/controls",
            "layout": "IPY_MODEL_1ffaef7954584e749b14c373269a000b"
          }
        },
        "a80db69d67e04a4b9f48d9a167d485c3": {
          "model_module": "@jupyter-widgets/controls",
          "model_name": "ProgressStyleModel",
          "state": {
            "_view_name": "StyleView",
            "_model_name": "ProgressStyleModel",
            "description_width": "initial",
            "_view_module": "@jupyter-widgets/base",
            "_model_module_version": "1.5.0",
            "_view_count": null,
            "_view_module_version": "1.2.0",
            "bar_color": null,
            "_model_module": "@jupyter-widgets/controls"
          }
        },
        "3b1a7507e1384570aa34d542cded08ae": {
          "model_module": "@jupyter-widgets/base",
          "model_name": "LayoutModel",
          "state": {
            "_view_name": "LayoutView",
            "grid_template_rows": null,
            "right": null,
            "justify_content": null,
            "_view_module": "@jupyter-widgets/base",
            "overflow": null,
            "_model_module_version": "1.2.0",
            "_view_count": null,
            "flex_flow": null,
            "width": null,
            "min_width": null,
            "border": null,
            "align_items": null,
            "bottom": null,
            "_model_module": "@jupyter-widgets/base",
            "top": null,
            "grid_column": null,
            "overflow_y": null,
            "overflow_x": null,
            "grid_auto_flow": null,
            "grid_area": null,
            "grid_template_columns": null,
            "flex": null,
            "_model_name": "LayoutModel",
            "justify_items": null,
            "grid_row": null,
            "max_height": null,
            "align_content": null,
            "visibility": null,
            "align_self": null,
            "height": null,
            "min_height": null,
            "padding": null,
            "grid_auto_rows": null,
            "grid_gap": null,
            "max_width": null,
            "order": null,
            "_view_module_version": "1.2.0",
            "grid_template_areas": null,
            "object_position": null,
            "object_fit": null,
            "grid_auto_columns": null,
            "margin": null,
            "display": null,
            "left": null
          }
        },
        "e2f96e7bbbed42eabdfbe09e62479163": {
          "model_module": "@jupyter-widgets/controls",
          "model_name": "DescriptionStyleModel",
          "state": {
            "_view_name": "StyleView",
            "_model_name": "DescriptionStyleModel",
            "description_width": "",
            "_view_module": "@jupyter-widgets/base",
            "_model_module_version": "1.5.0",
            "_view_count": null,
            "_view_module_version": "1.2.0",
            "_model_module": "@jupyter-widgets/controls"
          }
        },
        "1ffaef7954584e749b14c373269a000b": {
          "model_module": "@jupyter-widgets/base",
          "model_name": "LayoutModel",
          "state": {
            "_view_name": "LayoutView",
            "grid_template_rows": null,
            "right": null,
            "justify_content": null,
            "_view_module": "@jupyter-widgets/base",
            "overflow": null,
            "_model_module_version": "1.2.0",
            "_view_count": null,
            "flex_flow": null,
            "width": null,
            "min_width": null,
            "border": null,
            "align_items": null,
            "bottom": null,
            "_model_module": "@jupyter-widgets/base",
            "top": null,
            "grid_column": null,
            "overflow_y": null,
            "overflow_x": null,
            "grid_auto_flow": null,
            "grid_area": null,
            "grid_template_columns": null,
            "flex": null,
            "_model_name": "LayoutModel",
            "justify_items": null,
            "grid_row": null,
            "max_height": null,
            "align_content": null,
            "visibility": null,
            "align_self": null,
            "height": null,
            "min_height": null,
            "padding": null,
            "grid_auto_rows": null,
            "grid_gap": null,
            "max_width": null,
            "order": null,
            "_view_module_version": "1.2.0",
            "grid_template_areas": null,
            "object_position": null,
            "object_fit": null,
            "grid_auto_columns": null,
            "margin": null,
            "display": null,
            "left": null
          }
        }
      }
    }
  },
  "cells": [
    {
      "cell_type": "markdown",
      "metadata": {
        "id": "view-in-github",
        "colab_type": "text"
      },
      "source": [
        "<a href=\"https://colab.research.google.com/github/shomerthesec/TensorFlow-Advanced-Techniques-Specialization/blob/main/4/2/Fashion_MNIST_Convolutional_Autoencoders.ipynb\" target=\"_parent\"><img src=\"https://colab.research.google.com/assets/colab-badge.svg\" alt=\"Open In Colab\"/></a>"
      ]
    },
    {
      "cell_type": "markdown",
      "metadata": {
        "id": "Svyum7G3gHcK"
      },
      "source": [
        "## Ungraded Lab: Convolutional Autoencoders\n",
        "\n",
        "In this lab, you will use convolution layers to build your autoencoder. This usually leads to better results than dense networks and you will see it in action with the [Fashion MNIST dataset](https://www.tensorflow.org/datasets/catalog/fashion_mnist)."
      ]
    },
    {
      "cell_type": "markdown",
      "metadata": {
        "id": "Jk0Tld-U5XFD"
      },
      "source": [
        "## Imports"
      ]
    },
    {
      "cell_type": "code",
      "metadata": {
        "id": "3EXwoz-KHtWO"
      },
      "source": [
        "try:\n",
        "  # %tensorflow_version only exists in Colab.\n",
        "  %tensorflow_version 2.x\n",
        "except Exception:\n",
        "  pass\n",
        "  \n",
        "import tensorflow as tf\n",
        "import tensorflow_datasets as tfds\n",
        "\n",
        "import numpy as np\n",
        "import matplotlib.pyplot as plt"
      ],
      "execution_count": 1,
      "outputs": []
    },
    {
      "cell_type": "markdown",
      "metadata": {
        "id": "e0WGuXlw5bK-"
      },
      "source": [
        "## Prepare the Dataset"
      ]
    },
    {
      "cell_type": "markdown",
      "metadata": {
        "id": "aTySDKEhLNLY"
      },
      "source": [
        "As before, you will load the train and test sets from TFDS. Notice that we don't flatten the image this time. That's because we will be using convolutional layers later that can deal with 2D images."
      ]
    },
    {
      "cell_type": "code",
      "metadata": {
        "id": "t9F7YsCNIKSA"
      },
      "source": [
        "def map_image(image, label):\n",
        "  '''Normalizes the image. Returns image as input and label.'''\n",
        "  image = tf.cast(image, dtype=tf.float32)\n",
        "  image = image / 255.0\n",
        "\n",
        "  return image, image"
      ],
      "execution_count": 2,
      "outputs": []
    },
    {
      "cell_type": "code",
      "metadata": {
        "id": "9ZsciqJXL368",
        "colab": {
          "base_uri": "https://localhost:8080/",
          "height": 350,
          "referenced_widgets": [
            "555ae795d6534d7ca1432372eaf11b6a",
            "46d5a033d1b14a3fb569861822ac3fd0",
            "33517b7b0bc44412a1b7f904e4ae4c07",
            "7e24bc48ae93454e9adc14f62370ffa9",
            "98c30553ccfe493f91cf0944dab1fc3f",
            "7f5b48b832704016be3e9a2ca9ea55c1",
            "6e83aaa9b8ee4d27b4fb45d1fcda8ebd",
            "62ff059a06484aa8b4da72dddf581cb1",
            "2a1d18ee07024a94829a7fc7f249a433",
            "337deaa80c754fed9930d0586ac612b4",
            "2e535f9fbfd641d5b8ee80e35ae6de95",
            "258e4134ca954cbc8867a558cae7ece6",
            "e964fa816ab14ce2a48720036cfc4865",
            "2d28fa0901e44242848f7080521637b0",
            "f59173ef63e94ae492eb7fa7a708ddd7",
            "9b72f5ba03cd4d77a9910ed01c4b540e",
            "d457ce1ccedc403c8ab48c5e6a2d8d9d",
            "8943263220bc4804a269b7408e61c550",
            "61da42fcd95c42828f8136bfa1e640f4",
            "4224549a9cf84b2ba7adf5606d8ab21a",
            "4487e685440e44f2a56701594ef09823",
            "9cdbeacb8bed420ab2edff35be77443c",
            "84ea175a990a43c8a948c4620a185146",
            "8bd1e2f4d91148faba3435de97983680",
            "5bca2212d63d4f748a8c3389f56a0237",
            "00fb3616661d4dc2a20113fbda150944",
            "76cc7c8058b3475fbcb80c9dc5e2bbd4",
            "9561aaa5339249afa594db3d344e2df9",
            "ffa7c9d9e9a547a7a8adca3ea98c1cf7",
            "46ced55ca0d44b0799f7aaa4eea37b8f",
            "64e824cf81164da9876e2dcea175c303",
            "ddea2b17b1c348b68474c0cc960dd1ac",
            "a774840873364b0590d1c2c181ed0ab8",
            "4ca5b78982bc4c1c9ab2fb000c770a4b",
            "25d51b50584a4a87a46136b3a7aa4008",
            "61df3fcb2e0c432ea812e47c537845e7",
            "7efdb04d3aa74c858bf5df7d7e2ed2bc",
            "3f715d23c84142309ac5b9fd3e305733",
            "34e559c080e34fca95e0345b6486d4f1",
            "2b551e1c2fc84313814f93968c85994b",
            "7648ab1ba3a841bca182602ce6a85337",
            "80c71bfc9e764ec3aa07c7d44910ab76",
            "7a4e3a09ebae4d67838e16d1ae3ad6eb",
            "be1d645a543246fbbb4b6f8ebc579362",
            "63031f5a694245159171f126db1cd4c4",
            "15fcd991c7f94e44ab77e6b93aa2efb1",
            "781a96202da441b5b39124dae27932bf",
            "ec7599bd61cc41a3aee79de1614f4967",
            "a1a2d37857054727ac6cd8be73a08cbf",
            "b4e949ca567a4878b1ae98b3868da809",
            "19f6da52b95449fe9f4a11027a760a24",
            "5403235ef80a4a7681200a9b3d8df048",
            "a80db69d67e04a4b9f48d9a167d485c3",
            "3b1a7507e1384570aa34d542cded08ae",
            "e2f96e7bbbed42eabdfbe09e62479163",
            "1ffaef7954584e749b14c373269a000b"
          ]
        },
        "outputId": "7535f33d-bc9e-4be2-9d60-0d08240a7b02"
      },
      "source": [
        "BATCH_SIZE = 128\n",
        "SHUFFLE_BUFFER_SIZE = 1024\n",
        "\n",
        "train_dataset = tfds.load('fashion_mnist', as_supervised=True, split=\"train\")\n",
        "train_dataset = train_dataset.map(map_image)\n",
        "train_dataset = train_dataset.shuffle(SHUFFLE_BUFFER_SIZE).batch(BATCH_SIZE).repeat()\n",
        "\n",
        "test_dataset = tfds.load('fashion_mnist', as_supervised=True, split=\"test\")\n",
        "test_dataset = test_dataset.map(map_image)\n",
        "test_dataset = test_dataset.batch(BATCH_SIZE).repeat()"
      ],
      "execution_count": 3,
      "outputs": [
        {
          "output_type": "stream",
          "text": [
            "\u001b[1mDownloading and preparing dataset fashion_mnist/3.0.1 (download: 29.45 MiB, generated: 36.42 MiB, total: 65.87 MiB) to /root/tensorflow_datasets/fashion_mnist/3.0.1...\u001b[0m\n"
          ],
          "name": "stdout"
        },
        {
          "output_type": "display_data",
          "data": {
            "application/vnd.jupyter.widget-view+json": {
              "model_id": "555ae795d6534d7ca1432372eaf11b6a",
              "version_minor": 0,
              "version_major": 2
            },
            "text/plain": [
              "HBox(children=(FloatProgress(value=1.0, bar_style='info', description='Dl Completed...', max=1.0, style=Progre…"
            ]
          },
          "metadata": {
            "tags": []
          }
        },
        {
          "output_type": "display_data",
          "data": {
            "application/vnd.jupyter.widget-view+json": {
              "model_id": "2a1d18ee07024a94829a7fc7f249a433",
              "version_minor": 0,
              "version_major": 2
            },
            "text/plain": [
              "HBox(children=(FloatProgress(value=1.0, bar_style='info', description='Dl Size...', max=1.0, style=ProgressSty…"
            ]
          },
          "metadata": {
            "tags": []
          }
        },
        {
          "output_type": "display_data",
          "data": {
            "application/vnd.jupyter.widget-view+json": {
              "model_id": "d457ce1ccedc403c8ab48c5e6a2d8d9d",
              "version_minor": 0,
              "version_major": 2
            },
            "text/plain": [
              "HBox(children=(FloatProgress(value=1.0, bar_style='info', description='Extraction completed...', max=1.0, styl…"
            ]
          },
          "metadata": {
            "tags": []
          }
        },
        {
          "output_type": "stream",
          "text": [
            "\n",
            "\n",
            "\n",
            "\n",
            "\n",
            "\n"
          ],
          "name": "stdout"
        },
        {
          "output_type": "display_data",
          "data": {
            "application/vnd.jupyter.widget-view+json": {
              "model_id": "5bca2212d63d4f748a8c3389f56a0237",
              "version_minor": 0,
              "version_major": 2
            },
            "text/plain": [
              "HBox(children=(FloatProgress(value=1.0, bar_style='info', max=1.0), HTML(value='')))"
            ]
          },
          "metadata": {
            "tags": []
          }
        },
        {
          "output_type": "stream",
          "text": [
            "\rShuffling and writing examples to /root/tensorflow_datasets/fashion_mnist/3.0.1.incompleteKWBOK6/fashion_mnist-train.tfrecord\n"
          ],
          "name": "stdout"
        },
        {
          "output_type": "display_data",
          "data": {
            "application/vnd.jupyter.widget-view+json": {
              "model_id": "a774840873364b0590d1c2c181ed0ab8",
              "version_minor": 0,
              "version_major": 2
            },
            "text/plain": [
              "HBox(children=(FloatProgress(value=0.0, max=60000.0), HTML(value='')))"
            ]
          },
          "metadata": {
            "tags": []
          }
        },
        {
          "output_type": "stream",
          "text": [
            "\r"
          ],
          "name": "stdout"
        },
        {
          "output_type": "display_data",
          "data": {
            "application/vnd.jupyter.widget-view+json": {
              "model_id": "7648ab1ba3a841bca182602ce6a85337",
              "version_minor": 0,
              "version_major": 2
            },
            "text/plain": [
              "HBox(children=(FloatProgress(value=1.0, bar_style='info', max=1.0), HTML(value='')))"
            ]
          },
          "metadata": {
            "tags": []
          }
        },
        {
          "output_type": "stream",
          "text": [
            "\rShuffling and writing examples to /root/tensorflow_datasets/fashion_mnist/3.0.1.incompleteKWBOK6/fashion_mnist-test.tfrecord\n"
          ],
          "name": "stdout"
        },
        {
          "output_type": "display_data",
          "data": {
            "application/vnd.jupyter.widget-view+json": {
              "model_id": "a1a2d37857054727ac6cd8be73a08cbf",
              "version_minor": 0,
              "version_major": 2
            },
            "text/plain": [
              "HBox(children=(FloatProgress(value=0.0, max=10000.0), HTML(value='')))"
            ]
          },
          "metadata": {
            "tags": []
          }
        },
        {
          "output_type": "stream",
          "text": [
            "\u001b[1mDataset fashion_mnist downloaded and prepared to /root/tensorflow_datasets/fashion_mnist/3.0.1. Subsequent calls will reuse this data.\u001b[0m\n",
            "\r"
          ],
          "name": "stdout"
        }
      ]
    },
    {
      "cell_type": "markdown",
      "metadata": {
        "id": "uoyz09uKMDn5"
      },
      "source": [
        "## Define the Model"
      ]
    },
    {
      "cell_type": "markdown",
      "metadata": {
        "id": "V1-Fw_qnZPV7"
      },
      "source": [
        "As mentioned, you will use convolutional layers to build the model. This is composed of three main parts: encoder, bottleneck, and decoder. You will follow the configuration shown in the image below."
      ]
    },
    {
      "cell_type": "markdown",
      "metadata": {
        "id": "568W0TYyY9nl"
      },
      "source": [
        "<img src=\"https://drive.google.com/uc?export=view&id=15zh7bst9KKvciRdCvMAH7kXt3nNkABzO\" width=\"75%\" height=\"75%\"/>"
      ]
    },
    {
      "cell_type": "markdown",
      "metadata": {
        "id": "O2IvtyIoZnb4"
      },
      "source": [
        "The encoder, just like in previous labs, will contract with each additional layer. The features are generated with the Conv2D layers while the max pooling layers reduce the dimensionality."
      ]
    },
    {
      "cell_type": "code",
      "metadata": {
        "id": "wxh8h-UMk2iL"
      },
      "source": [
        "def encoder(inputs):\n",
        "  '''Defines the encoder with two Conv2D and max pooling layers.'''\n",
        "  conv_1 = tf.keras.layers.Conv2D(filters=64, kernel_size=(3,3), activation='relu', padding='same')(inputs)\n",
        "  max_pool_1 = tf.keras.layers.MaxPooling2D(pool_size=(2,2))(conv_1)\n",
        "\n",
        "  conv_2 = tf.keras.layers.Conv2D(filters=128, kernel_size=(3,3), activation='relu', padding='same')(max_pool_1)\n",
        "  max_pool_2 = tf.keras.layers.MaxPooling2D(pool_size=(2,2))(conv_2)\n",
        "\n",
        "  return max_pool_2"
      ],
      "execution_count": 4,
      "outputs": []
    },
    {
      "cell_type": "markdown",
      "metadata": {
        "id": "g9KQYnabazLl"
      },
      "source": [
        "A bottleneck layer is used to get more features but without further reducing the dimension afterwards. Another layer is inserted here for visualizing the encoder output."
      ]
    },
    {
      "cell_type": "code",
      "metadata": {
        "id": "wRWmLA3VliDr"
      },
      "source": [
        "def bottle_neck(inputs):\n",
        "  '''Defines the bottleneck.'''\n",
        "  bottle_neck = tf.keras.layers.Conv2D(filters=256, kernel_size=(3,3), activation='relu', padding='same')(inputs)\n",
        "  encoder_visualization = tf.keras.layers.Conv2D(filters=1, kernel_size=(3,3), activation='relu', padding='same')(bottle_neck) # activation can be changed as it doesn't train at all, not included in the backprob\n",
        "\n",
        "  return bottle_neck, encoder_visualization"
      ],
      "execution_count": 12,
      "outputs": []
    },
    {
      "cell_type": "markdown",
      "metadata": {
        "id": "FayvcE3ebZxk"
      },
      "source": [
        "The decoder will upsample the bottleneck output back to the original image size."
      ]
    },
    {
      "cell_type": "code",
      "metadata": {
        "id": "XZgLt5uAmArk"
      },
      "source": [
        "def decoder(inputs):\n",
        "  '''Defines the decoder path to upsample back to the original image size.'''\n",
        "  conv_1 = tf.keras.layers.Conv2D(filters=128, kernel_size=(3,3), activation='relu', padding='same')(inputs)\n",
        "  up_sample_1 = tf.keras.layers.UpSampling2D(size=(2,2))(conv_1)\n",
        "\n",
        "  conv_2 = tf.keras.layers.Conv2D(filters=64, kernel_size=(3,3), activation='relu', padding='same')(up_sample_1)\n",
        "  up_sample_2 = tf.keras.layers.UpSampling2D(size=(2,2))(conv_2)\n",
        "\n",
        "  conv_3 = tf.keras.layers.Conv2D(filters=1, kernel_size=(3,3), activation='sigmoid', padding='same')(up_sample_2)\n",
        "\n",
        "  return conv_3"
      ],
      "execution_count": 6,
      "outputs": []
    },
    {
      "cell_type": "markdown",
      "metadata": {
        "id": "Dvfhvk9qbvCp"
      },
      "source": [
        "You can now build the full autoencoder using the functions above."
      ]
    },
    {
      "cell_type": "code",
      "metadata": {
        "id": "fQKwO64iiOYl"
      },
      "source": [
        "def convolutional_auto_encoder():\n",
        "  '''Builds the entire autoencoder model.'''\n",
        "  inputs = tf.keras.layers.Input(shape=(28, 28, 1,))\n",
        "  encoder_output = encoder(inputs)\n",
        "  bottleneck_output, encoder_visualization = bottle_neck(encoder_output)\n",
        "  decoder_output = decoder(bottleneck_output)\n",
        "  \n",
        "  model = tf.keras.Model(inputs=inputs, outputs=decoder_output)\n",
        "  encoder_model = tf.keras.Model(inputs=inputs, outputs=encoder_visualization)\n",
        "  return model, encoder_model\n"
      ],
      "execution_count": 7,
      "outputs": []
    },
    {
      "cell_type": "code",
      "metadata": {
        "id": "1MmS7r0tkuIf",
        "colab": {
          "base_uri": "https://localhost:8080/"
        },
        "outputId": "7b68b666-3ba4-4957-ecba-a9756f941f22"
      },
      "source": [
        "convolutional_model, convolutional_encoder_model = convolutional_auto_encoder()\n",
        "convolutional_model.summary()"
      ],
      "execution_count": 14,
      "outputs": [
        {
          "output_type": "stream",
          "text": [
            "Model: \"model_2\"\n",
            "_________________________________________________________________\n",
            "Layer (type)                 Output Shape              Param #   \n",
            "=================================================================\n",
            "input_2 (InputLayer)         [(None, 28, 28, 1)]       0         \n",
            "_________________________________________________________________\n",
            "conv2d_7 (Conv2D)            (None, 28, 28, 64)        640       \n",
            "_________________________________________________________________\n",
            "max_pooling2d_2 (MaxPooling2 (None, 14, 14, 64)        0         \n",
            "_________________________________________________________________\n",
            "conv2d_8 (Conv2D)            (None, 14, 14, 128)       73856     \n",
            "_________________________________________________________________\n",
            "max_pooling2d_3 (MaxPooling2 (None, 7, 7, 128)         0         \n",
            "_________________________________________________________________\n",
            "conv2d_9 (Conv2D)            (None, 7, 7, 256)         295168    \n",
            "_________________________________________________________________\n",
            "conv2d_11 (Conv2D)           (None, 7, 7, 128)         295040    \n",
            "_________________________________________________________________\n",
            "up_sampling2d_2 (UpSampling2 (None, 14, 14, 128)       0         \n",
            "_________________________________________________________________\n",
            "conv2d_12 (Conv2D)           (None, 14, 14, 64)        73792     \n",
            "_________________________________________________________________\n",
            "up_sampling2d_3 (UpSampling2 (None, 28, 28, 64)        0         \n",
            "_________________________________________________________________\n",
            "conv2d_13 (Conv2D)           (None, 28, 28, 1)         577       \n",
            "=================================================================\n",
            "Total params: 739,073\n",
            "Trainable params: 739,073\n",
            "Non-trainable params: 0\n",
            "_________________________________________________________________\n"
          ],
          "name": "stdout"
        }
      ]
    },
    {
      "cell_type": "markdown",
      "metadata": {
        "id": "5FRxRr0LMLCs"
      },
      "source": [
        "## Compile and Train the model"
      ]
    },
    {
      "cell_type": "code",
      "metadata": {
        "id": "J0Umj_xaiHL_",
        "colab": {
          "base_uri": "https://localhost:8080/"
        },
        "outputId": "91dfd7d0-32ce-45bc-b596-dd44c93e9dc5"
      },
      "source": [
        "train_steps = 60000 // BATCH_SIZE\n",
        "valid_steps = 60000 // BATCH_SIZE\n",
        "\n",
        "convolutional_model.compile(optimizer=tf.keras.optimizers.Adam() , loss='binary_crossentropy')\n",
        "conv_model_history = convolutional_model.fit( train_dataset , steps_per_epoch=train_steps , \n",
        "                                                                            validation_data=test_dataset , validation_steps=valid_steps , epochs=40)"
      ],
      "execution_count": 15,
      "outputs": [
        {
          "output_type": "stream",
          "text": [
            "Epoch 1/40\n",
            "465/468 [============================>.] - ETA: 0s - loss: 0.3218WARNING:tensorflow:Your input ran out of data; interrupting training. Make sure that your dataset or generator can generate at least `steps_per_epoch * epochs` batches (in this case, 468 batches). You may need to use the repeat() function when building your dataset.\n"
          ],
          "name": "stdout"
        },
        {
          "output_type": "stream",
          "text": [
            "WARNING:tensorflow:Your input ran out of data; interrupting training. Make sure that your dataset or generator can generate at least `steps_per_epoch * epochs` batches (in this case, 468 batches). You may need to use the repeat() function when building your dataset.\n"
          ],
          "name": "stderr"
        },
        {
          "output_type": "stream",
          "text": [
            "468/468 [==============================] - 9s 18ms/step - loss: 0.3215 - val_loss: 0.2722\n",
            "Epoch 2/40\n",
            "468/468 [==============================] - 8s 18ms/step - loss: 0.2608\n",
            "Epoch 3/40\n",
            "468/468 [==============================] - 8s 18ms/step - loss: 0.2553\n",
            "Epoch 4/40\n",
            "468/468 [==============================] - 8s 18ms/step - loss: 0.2526\n",
            "Epoch 5/40\n",
            "468/468 [==============================] - 9s 18ms/step - loss: 0.2509\n",
            "Epoch 6/40\n",
            "468/468 [==============================] - 9s 18ms/step - loss: 0.2500\n",
            "Epoch 7/40\n",
            "468/468 [==============================] - 8s 18ms/step - loss: 0.2491\n",
            "Epoch 8/40\n",
            "468/468 [==============================] - 9s 18ms/step - loss: 0.2490\n",
            "Epoch 9/40\n",
            "468/468 [==============================] - 8s 18ms/step - loss: 0.2478\n",
            "Epoch 10/40\n",
            "468/468 [==============================] - 8s 18ms/step - loss: 0.2473\n",
            "Epoch 11/40\n",
            "468/468 [==============================] - 8s 18ms/step - loss: 0.2472\n",
            "Epoch 12/40\n",
            "468/468 [==============================] - 8s 18ms/step - loss: 0.2470\n",
            "Epoch 13/40\n",
            "468/468 [==============================] - 8s 18ms/step - loss: 0.2465\n",
            "Epoch 14/40\n",
            "468/468 [==============================] - 9s 18ms/step - loss: 0.2466\n",
            "Epoch 15/40\n",
            "468/468 [==============================] - 9s 18ms/step - loss: 0.2461\n",
            "Epoch 16/40\n",
            "468/468 [==============================] - 9s 18ms/step - loss: 0.2460\n",
            "Epoch 17/40\n",
            "468/468 [==============================] - 8s 18ms/step - loss: 0.2458\n",
            "Epoch 18/40\n",
            "468/468 [==============================] - 8s 18ms/step - loss: 0.2457\n",
            "Epoch 19/40\n",
            "468/468 [==============================] - 8s 18ms/step - loss: 0.2458\n",
            "Epoch 20/40\n",
            "468/468 [==============================] - 8s 18ms/step - loss: 0.2452\n",
            "Epoch 21/40\n",
            "468/468 [==============================] - 8s 18ms/step - loss: 0.2456\n",
            "Epoch 22/40\n",
            "468/468 [==============================] - 8s 18ms/step - loss: 0.2451\n",
            "Epoch 23/40\n",
            "468/468 [==============================] - 8s 18ms/step - loss: 0.2449\n",
            "Epoch 24/40\n",
            "468/468 [==============================] - 9s 18ms/step - loss: 0.2446\n",
            "Epoch 25/40\n",
            "468/468 [==============================] - 9s 18ms/step - loss: 0.2448\n",
            "Epoch 26/40\n",
            "468/468 [==============================] - 9s 18ms/step - loss: 0.2446\n",
            "Epoch 27/40\n",
            "468/468 [==============================] - 9s 18ms/step - loss: 0.2451\n",
            "Epoch 28/40\n",
            "468/468 [==============================] - 9s 18ms/step - loss: 0.2443\n",
            "Epoch 29/40\n",
            "468/468 [==============================] - 9s 18ms/step - loss: 0.2443\n",
            "Epoch 30/40\n",
            "468/468 [==============================] - 8s 18ms/step - loss: 0.2440\n",
            "Epoch 31/40\n",
            "468/468 [==============================] - 8s 18ms/step - loss: 0.2440\n",
            "Epoch 32/40\n",
            "468/468 [==============================] - 9s 18ms/step - loss: 0.2441\n",
            "Epoch 33/40\n",
            "468/468 [==============================] - 9s 18ms/step - loss: 0.2439\n",
            "Epoch 34/40\n",
            "468/468 [==============================] - 8s 18ms/step - loss: 0.2440\n",
            "Epoch 35/40\n",
            "468/468 [==============================] - 9s 18ms/step - loss: 0.2437\n",
            "Epoch 36/40\n",
            "468/468 [==============================] - 8s 18ms/step - loss: 0.2438\n",
            "Epoch 37/40\n",
            "468/468 [==============================] - 8s 18ms/step - loss: 0.2439\n",
            "Epoch 38/40\n",
            "468/468 [==============================] - 8s 18ms/step - loss: 0.2437\n",
            "Epoch 39/40\n",
            "468/468 [==============================] - 9s 18ms/step - loss: 0.2438\n",
            "Epoch 40/40\n",
            "468/468 [==============================] - 8s 18ms/step - loss: 0.2437\n"
          ],
          "name": "stdout"
        }
      ]
    },
    {
      "cell_type": "markdown",
      "metadata": {
        "id": "-8zE9OiAMUd7"
      },
      "source": [
        "## Display sample results"
      ]
    },
    {
      "cell_type": "markdown",
      "metadata": {
        "id": "DCUOM7F_cf26"
      },
      "source": [
        "As usual, let's see some sample results from the trained model."
      ]
    },
    {
      "cell_type": "code",
      "metadata": {
        "id": "A35RlIqKIsQv"
      },
      "source": [
        "def display_one_row(disp_images, offset, shape=(28, 28)):\n",
        "  '''Display sample outputs in one row.'''\n",
        "  for idx, test_image in enumerate(disp_images):\n",
        "    plt.subplot(3, 10, offset + idx + 1)\n",
        "    plt.xticks([])\n",
        "    plt.yticks([])\n",
        "    test_image = np.reshape(test_image, shape)\n",
        "    plt.imshow(test_image, cmap='gray')\n",
        "\n",
        "\n",
        "def display_results(disp_input_images, disp_encoded, disp_predicted, enc_shape=(8,4)):\n",
        "  '''Displays the input, encoded, and decoded output values.'''\n",
        "  plt.figure(figsize=(15, 5))\n",
        "  display_one_row(disp_input_images, 0, shape=(28,28,))\n",
        "  display_one_row(disp_encoded, 10, shape=enc_shape)\n",
        "  display_one_row(disp_predicted, 20, shape=(28,28,))"
      ],
      "execution_count": 16,
      "outputs": []
    },
    {
      "cell_type": "code",
      "metadata": {
        "id": "qtQyQRxRN_hH",
        "colab": {
          "base_uri": "https://localhost:8080/",
          "height": 297
        },
        "outputId": "2a842b25-fbfb-4c42-bf2b-e480d1f87006"
      },
      "source": [
        "# take 1 batch of the dataset\n",
        "test_dataset = test_dataset.take(1)\n",
        "\n",
        "# take the input images and put them in a list\n",
        "output_samples = []\n",
        "for input_image, image in tfds.as_numpy(test_dataset):\n",
        "      output_samples = input_image\n",
        "\n",
        "# pick 10 indices\n",
        "idxs = np.array([1, 2, 3, 4, 5, 6, 7, 8, 9, 10])\n",
        "\n",
        "# prepare test samples as a batch of 10 images\n",
        "conv_output_samples = np.array(output_samples[idxs])\n",
        "conv_output_samples = np.reshape(conv_output_samples, (10, 28, 28, 1))\n",
        "\n",
        "# get the encoder ouput\n",
        "encoded = convolutional_encoder_model.predict(conv_output_samples)\n",
        "\n",
        "# get a prediction for some values in the dataset\n",
        "predicted = convolutional_model.predict(conv_output_samples)\n",
        "\n",
        "# display the samples, encodings and decoded values!\n",
        "display_results(conv_output_samples, encoded, predicted, enc_shape=(7,7))"
      ],
      "execution_count": 17,
      "outputs": [
        {
          "output_type": "display_data",
          "data": {
            "image/png": "[encoded data removed]",
            "text/plain": [
              "<Figure size 1080x360 with 30 Axes>"
            ]
          },
          "metadata": {
            "tags": []
          }
        }
      ]
    },
    {
      "cell_type": "markdown",
      "metadata": {
        "id": "WJvJioQZRe9z"
      },
      "source": [
        "## The following image when using sigmoid as the activation function for the rep. layer"
      ]
    },
    {
      "cell_type": "markdown",
      "metadata": {
        "id": "4e_Yhy7SRRSE"
      },
      "source": [
        "![image.png](data:image/png;base64,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)"
      ]
    }
  ]
}